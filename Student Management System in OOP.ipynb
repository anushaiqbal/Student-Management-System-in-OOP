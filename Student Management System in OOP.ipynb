{
 "cells": [
  {
   "cell_type": "code",
   "execution_count": 3,
   "id": "7d83e6c2-a1d7-4f2f-9dcc-2491e18d3e51",
   "metadata": {},
   "outputs": [
    {
     "name": "stdout",
     "output_type": "stream",
     "text": [
      "Student 1 - Name: Ashar\n",
      "Enrolled Courses: ['DLD', 'CA']\n",
      "Grades: {'DLD': 'B', 'CA': 'A'}\n",
      "\n",
      "Student 2 - Name: Anusha\n",
      "Enrolled Courses: ['DLD', 'DP']\n",
      "Grades: {'DLD': 'A', 'DP': 'B'}\n",
      "\n",
      "Student 3 - Name: Zain\n",
      "Enrolled Courses: ['DCN', 'PF']\n",
      "Grades: {'DCN': 'A', 'PF': 'A'}\n"
     ]
    }
   ],
   "source": [
    "class Student:\n",
    "    def __init__(self, name, age, roll_number):\n",
    "        self.name = name\n",
    "        self.age = age\n",
    "        self.roll_number = roll_number\n",
    "        self.enrolled_courses = []\n",
    "        self.grades = {}\n",
    "\n",
    "    def enroll_course(self, course_name):\n",
    "        self.enrolled_courses.append(course_name)\n",
    "\n",
    "    def record_grade(self, course_name, grade):\n",
    "        self.grades[course_name] = grade\n",
    "\n",
    "    def view_enrolled_courses(self):\n",
    "        return self.enrolled_courses\n",
    "\n",
    "    def view_grades(self):\n",
    "        return self.grades\n",
    "\n",
    "# Creating student instances\n",
    "student1 = Student(\"Ashar\" , 25, \"S001\")\n",
    "student2 = Student(\"Anusha\", 21, \"S002\")\n",
    "student3 = Student(\"Zain\", 20, \"S003\")\n",
    "\n",
    "# Enrolling students in courses and recording grades\n",
    "student1.enroll_course(\"DLD\")\n",
    "student1.enroll_course(\"CA\")\n",
    "student1.record_grade(\"DLD\", \"B\")\n",
    "student1.record_grade(\"CA\", \"A\")\n",
    "\n",
    "student2.enroll_course(\"DLD\")\n",
    "student2.enroll_course(\"DP\")\n",
    "student2.record_grade(\"DLD\", \"A\")\n",
    "student2.record_grade(\"DP\", \"B\")\n",
    "\n",
    "student3.enroll_course(\"DCN\")\n",
    "student3.enroll_course(\"PF\")\n",
    "student3.record_grade(\"DCN\", \"A\")\n",
    "student3.record_grade(\"PF\", \"A\")\n",
    "\n",
    "# Displaying data for each student\n",
    "print(\"Student 1 - Name:\", student1.name)\n",
    "print(\"Enrolled Courses:\", student1.view_enrolled_courses())\n",
    "print(\"Grades:\", student1.view_grades())\n",
    "print()\n",
    "\n",
    "print(\"Student 2 - Name:\", student2.name)\n",
    "print(\"Enrolled Courses:\", student2.view_enrolled_courses())\n",
    "print(\"Grades:\", student2.view_grades())\n",
    "print()\n",
    "\n",
    "print(\"Student 3 - Name:\", student3.name)\n",
    "print(\"Enrolled Courses:\", student3.view_enrolled_courses())\n",
    "print(\"Grades:\", student3.view_grades())"
   ]
  },
  {
   "cell_type": "code",
   "execution_count": null,
   "id": "b5275d8f-5f1d-4d6a-bc5a-7a1b6eca82eb",
   "metadata": {},
   "outputs": [],
   "source": []
  }
 ],
 "metadata": {
  "kernelspec": {
   "display_name": "Python 3 (ipykernel)",
   "language": "python",
   "name": "python3"
  },
  "language_info": {
   "codemirror_mode": {
    "name": "ipython",
    "version": 3
   },
   "file_extension": ".py",
   "mimetype": "text/x-python",
   "name": "python",
   "nbconvert_exporter": "python",
   "pygments_lexer": "ipython3",
   "version": "3.11.7"
  }
 },
 "nbformat": 4,
 "nbformat_minor": 5
}
